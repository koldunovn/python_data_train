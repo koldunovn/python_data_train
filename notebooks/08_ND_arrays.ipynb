{
 "cells": [
  {
   "cell_type": "markdown",
   "id": "2ca9cf72",
   "metadata": {},
   "source": [
    "<img src=\"../images/UBRA_Logo_DATA_TRAIN.png\" style=\"width: 800px;\">"
   ]
  },
  {
   "cell_type": "code",
   "execution_count": null,
   "id": "2cb52eec-647c-4497-b63e-19db93341268",
   "metadata": {},
   "outputs": [],
   "source": [
    "pip install netcdf4"
   ]
  },
  {
   "cell_type": "code",
   "execution_count": null,
   "id": "c7bb0442",
   "metadata": {},
   "outputs": [],
   "source": [
    "from netCDF4 import Dataset\n",
    "import matplotlib.pylab as plt\n",
    "%matplotlib inline\n",
    "import numpy as np"
   ]
  },
  {
   "cell_type": "code",
   "execution_count": null,
   "id": "acbf51c0-b88c-4bd0-b64f-cfea7a53006d",
   "metadata": {},
   "outputs": [],
   "source": []
  },
  {
   "cell_type": "markdown",
   "id": "99976806",
   "metadata": {},
   "source": [
    "## Ocean model data"
   ]
  },
  {
   "cell_type": "code",
   "execution_count": null,
   "id": "cf68d250",
   "metadata": {},
   "outputs": [],
   "source": [
    "f = Dataset('../data/model_temp_time.nc4')"
   ]
  },
  {
   "cell_type": "code",
   "execution_count": null,
   "id": "f513aa82",
   "metadata": {},
   "outputs": [],
   "source": [
    "temp = f.variables['temp']"
   ]
  },
  {
   "cell_type": "code",
   "execution_count": null,
   "id": "f60326bf",
   "metadata": {},
   "outputs": [],
   "source": [
    "temp.shape"
   ]
  },
  {
   "cell_type": "code",
   "execution_count": null,
   "id": "129e14ac",
   "metadata": {},
   "outputs": [],
   "source": [
    "plt.imshow(np.flipud(temp[0,0,:,:]))\n",
    "plt.colorbar()"
   ]
  },
  {
   "cell_type": "markdown",
   "id": "ab1ad1d8",
   "metadata": {},
   "source": [
    "## MRI data"
   ]
  },
  {
   "cell_type": "markdown",
   "id": "b8bf1c88",
   "metadata": {},
   "source": [
    "Doenloaded from here: https://github.com/ioam/scipy-2017-holoviews-tutorial/blob/master/data/mri.nc Originally taken from [The Stanford volume data archive](https://graphics.stanford.edu/data/voldata/), as described in [this tutorial](https://pyviz-dev.github.io/pyviz/tutorial/Working_with_Gridded_Data.html)."
   ]
  },
  {
   "cell_type": "code",
   "execution_count": null,
   "id": "1d7b8d25",
   "metadata": {},
   "outputs": [],
   "source": [
    "f2 = Dataset('../data/mri.nc')"
   ]
  },
  {
   "cell_type": "code",
   "execution_count": null,
   "id": "a3af014f",
   "metadata": {},
   "outputs": [],
   "source": [
    "mri = f2.variables['MR']"
   ]
  },
  {
   "cell_type": "code",
   "execution_count": null,
   "id": "ad5276bf",
   "metadata": {},
   "outputs": [],
   "source": [
    "mri.shape"
   ]
  },
  {
   "cell_type": "code",
   "execution_count": null,
   "id": "c152432d",
   "metadata": {},
   "outputs": [],
   "source": [
    "plt.figure(figsize=(10,10))\n",
    "plt.imshow(np.rot90(mri[:,:,50]))"
   ]
  },
  {
   "cell_type": "code",
   "execution_count": null,
   "id": "7a95c467",
   "metadata": {},
   "outputs": [],
   "source": [
    "plt.figure(figsize=(10,10))\n",
    "plt.imshow(np.rot90(mri[:,150,:]))"
   ]
  },
  {
   "cell_type": "code",
   "execution_count": null,
   "id": "cb862932",
   "metadata": {},
   "outputs": [],
   "source": [
    "plt.figure(figsize=(10,10))\n",
    "plt.imshow(np.rot90(mri[150,:,:]))"
   ]
  },
  {
   "cell_type": "markdown",
   "id": "d356cefa",
   "metadata": {},
   "source": [
    "Again, arrays"
   ]
  },
  {
   "cell_type": "markdown",
   "id": "3de217aa",
   "metadata": {},
   "source": [
    "<img src=\"../images/anatomyarray.png\" style=\"width: 800px;\">"
   ]
  },
  {
   "cell_type": "code",
   "execution_count": null,
   "id": "5300de40",
   "metadata": {},
   "outputs": [],
   "source": [
    "a = np.load('../data/2darray.npy')\n",
    "a"
   ]
  },
  {
   "cell_type": "code",
   "execution_count": null,
   "id": "a7d440f4",
   "metadata": {},
   "outputs": [],
   "source": [
    "a.shape"
   ]
  },
  {
   "cell_type": "markdown",
   "id": "db7d31a7",
   "metadata": {},
   "source": [
    "## Slicing"
   ]
  },
  {
   "cell_type": "markdown",
   "id": "26a73886",
   "metadata": {},
   "source": [
    "One way to remember how slices work is to think of the indices as pointing between characters, with the left edge of the first character numbered 0. Then the right edge of the last character of a string of n characters has index n, for example:\n",
    "\n",
    "     +---+---+---+---+---+---+\n",
    "     | P | y | t | h | o | n |\n",
    "     +---+---+---+---+---+---+\n",
    "     0   1   2   3   4   5   6\n",
    "    -6  -5  -4  -3  -2  -1"
   ]
  },
  {
   "cell_type": "code",
   "execution_count": null,
   "id": "cd3cd140",
   "metadata": {},
   "outputs": [],
   "source": [
    "text = 'Python'"
   ]
  },
  {
   "cell_type": "code",
   "execution_count": null,
   "id": "8e8725b1",
   "metadata": {},
   "outputs": [],
   "source": [
    "text[:2]"
   ]
  },
  {
   "cell_type": "code",
   "execution_count": null,
   "id": "27da8dc0",
   "metadata": {},
   "outputs": [],
   "source": [
    "text[0:4]"
   ]
  },
  {
   "cell_type": "markdown",
   "id": "fceb6a8b",
   "metadata": {},
   "source": [
    "## Exersise\n",
    "\n",
    "Select slices from an array\n",
    "\n",
    "\n",
    "<img src=\"../images/arrays/2dbase1.png\" style=\"width: 300px;\">"
   ]
  },
  {
   "cell_type": "code",
   "execution_count": null,
   "id": "81a1e526",
   "metadata": {},
   "outputs": [],
   "source": []
  },
  {
   "cell_type": "markdown",
   "id": "0f228c54",
   "metadata": {},
   "source": [
    "\n",
    "<img src=\"../images/arrays/2dbase2.png\" style=\"width: 300px;\">"
   ]
  },
  {
   "cell_type": "code",
   "execution_count": null,
   "id": "ca748327",
   "metadata": {},
   "outputs": [],
   "source": []
  },
  {
   "cell_type": "markdown",
   "id": "fff952f8",
   "metadata": {},
   "source": [
    "\n",
    "<img src=\"../images/arrays/2dbase3.png\" style=\"width: 300px;\">"
   ]
  },
  {
   "cell_type": "code",
   "execution_count": null,
   "id": "32499885",
   "metadata": {},
   "outputs": [],
   "source": []
  },
  {
   "cell_type": "markdown",
   "id": "c22e6f00",
   "metadata": {},
   "source": [
    "<img src=\"../images/arrays/2dbase4.png\" style=\"width: 300px;\">"
   ]
  },
  {
   "cell_type": "code",
   "execution_count": null,
   "id": "cd3bd496",
   "metadata": {},
   "outputs": [],
   "source": []
  },
  {
   "cell_type": "markdown",
   "id": "20d35e21",
   "metadata": {},
   "source": [
    "<img src=\"../images/arrays/2dbase5.png\" style=\"width: 300px;\">"
   ]
  },
  {
   "cell_type": "code",
   "execution_count": null,
   "id": "347e1ee4",
   "metadata": {},
   "outputs": [],
   "source": []
  },
  {
   "cell_type": "markdown",
   "id": "48621244",
   "metadata": {},
   "source": [
    "<img src=\"../images/arrays/2dbase6.png\" style=\"width: 300px;\">"
   ]
  },
  {
   "cell_type": "code",
   "execution_count": null,
   "id": "4361c357",
   "metadata": {},
   "outputs": [],
   "source": [
    "plt.imshow(a)\n",
    "plt.colorbar()"
   ]
  },
  {
   "cell_type": "code",
   "execution_count": null,
   "id": "2effc374",
   "metadata": {},
   "outputs": [],
   "source": [
    "slice_mri = np.rot90(mri[:,:,50])"
   ]
  },
  {
   "cell_type": "code",
   "execution_count": null,
   "id": "4f564794",
   "metadata": {},
   "outputs": [],
   "source": [
    "plt.imshow(slice_mri)"
   ]
  },
  {
   "cell_type": "markdown",
   "id": "670216a1",
   "metadata": {},
   "source": [
    "## Exersise\n",
    "\n",
    "- Select some organ or part of the brain, select it from `slice_mri` and show with `imshow`"
   ]
  },
  {
   "cell_type": "code",
   "execution_count": null,
   "id": "f23a92c3",
   "metadata": {},
   "outputs": [],
   "source": []
  },
  {
   "cell_type": "code",
   "execution_count": null,
   "id": "afb07318",
   "metadata": {},
   "outputs": [],
   "source": []
  },
  {
   "cell_type": "code",
   "execution_count": null,
   "id": "36e2c83a",
   "metadata": {},
   "outputs": [],
   "source": [
    "a3 = np.load('../data/3darray.npy')\n",
    "a3"
   ]
  },
  {
   "cell_type": "code",
   "execution_count": null,
   "id": "60e93354",
   "metadata": {},
   "outputs": [],
   "source": [
    "a3.shape"
   ]
  },
  {
   "cell_type": "markdown",
   "id": "1e24f72b",
   "metadata": {},
   "source": [
    "<img src=\"../images/arrays/3darray.png\" style=\"width: 300px;\">"
   ]
  },
  {
   "cell_type": "code",
   "execution_count": null,
   "id": "fe9089ad",
   "metadata": {},
   "outputs": [],
   "source": []
  },
  {
   "cell_type": "markdown",
   "id": "bac49541",
   "metadata": {},
   "source": [
    "## Exersise"
   ]
  },
  {
   "cell_type": "markdown",
   "id": "f960e001",
   "metadata": {},
   "source": [
    "<img src=\"../images/arrays/3dbase1.png\" style=\"width: 300px;\">"
   ]
  },
  {
   "cell_type": "code",
   "execution_count": null,
   "id": "942d5a58",
   "metadata": {},
   "outputs": [],
   "source": []
  },
  {
   "cell_type": "markdown",
   "id": "1ebb6723",
   "metadata": {},
   "source": [
    "<img src=\"../images/arrays/3dbase2.png\" style=\"width: 300px;\">"
   ]
  },
  {
   "cell_type": "code",
   "execution_count": null,
   "id": "9c32dbbe",
   "metadata": {},
   "outputs": [],
   "source": []
  },
  {
   "cell_type": "markdown",
   "id": "cefb9542",
   "metadata": {},
   "source": [
    "<img src=\"../images/arrays/3dbase3.png\" style=\"width: 300px;\">"
   ]
  },
  {
   "cell_type": "code",
   "execution_count": null,
   "id": "27f8a66d",
   "metadata": {},
   "outputs": [],
   "source": []
  },
  {
   "cell_type": "markdown",
   "id": "b5343857",
   "metadata": {},
   "source": [
    "<img src=\"../images/arrays/3dbase4.png\" style=\"width: 300px;\">"
   ]
  },
  {
   "cell_type": "code",
   "execution_count": null,
   "id": "41e7bcbe",
   "metadata": {},
   "outputs": [],
   "source": []
  },
  {
   "cell_type": "markdown",
   "id": "00c5c6e1",
   "metadata": {},
   "source": [
    "<img src=\"../images/arrays/3dbase5.png\" style=\"width: 300px;\">"
   ]
  },
  {
   "cell_type": "markdown",
   "id": "007a3c44",
   "metadata": {},
   "source": [
    "## Manipulations with arrays"
   ]
  },
  {
   "cell_type": "markdown",
   "id": "2e4c4bee",
   "metadata": {},
   "source": [
    "Here we have `depth` as third dimension, in principle it does not matter:"
   ]
  },
  {
   "cell_type": "code",
   "execution_count": null,
   "id": "cf418c2c",
   "metadata": {},
   "outputs": [],
   "source": [
    "mri.shape"
   ]
  },
  {
   "cell_type": "code",
   "execution_count": null,
   "id": "55dfc20b",
   "metadata": {},
   "outputs": [],
   "source": [
    "plt.imshow(mri[:,:,50])"
   ]
  },
  {
   "cell_type": "markdown",
   "id": "b16a4131",
   "metadata": {},
   "source": [
    "Original image is rotated, we can rotate arrays:"
   ]
  },
  {
   "cell_type": "code",
   "execution_count": null,
   "id": "fdc92032",
   "metadata": {},
   "outputs": [],
   "source": [
    "plt.imshow( np.rot90(mri[:,:,50]) )"
   ]
  },
  {
   "cell_type": "code",
   "execution_count": null,
   "id": "b8322afd",
   "metadata": {},
   "outputs": [],
   "source": [
    "plt.imshow( np.rot90(mri[:,:,50], k=2)  )"
   ]
  },
  {
   "cell_type": "code",
   "execution_count": null,
   "id": "68578b56",
   "metadata": {},
   "outputs": [],
   "source": [
    "plt.imshow( np.fliplr(mri[:,:,50])  )"
   ]
  },
  {
   "cell_type": "code",
   "execution_count": null,
   "id": "0c99a9e0",
   "metadata": {},
   "outputs": [],
   "source": [
    "plt.imshow( np.flipud(mri[:,:,50])  )"
   ]
  },
  {
   "cell_type": "code",
   "execution_count": null,
   "id": "e59c44ad",
   "metadata": {},
   "outputs": [],
   "source": []
  },
  {
   "cell_type": "markdown",
   "id": "593c5417",
   "metadata": {},
   "source": [
    "## Exersise\n",
    "\n",
    "Use original `mri` variable to:\n",
    "- select slice 40 and visualize it\n",
    "- Look at the brain from the top\n",
    "- select part of the brain, when looking from the top"
   ]
  },
  {
   "cell_type": "code",
   "execution_count": null,
   "id": "a8cf3ebe",
   "metadata": {},
   "outputs": [],
   "source": []
  },
  {
   "cell_type": "markdown",
   "id": "d0cc6dae",
   "metadata": {},
   "source": [
    "## 4D arrays"
   ]
  },
  {
   "cell_type": "code",
   "execution_count": null,
   "id": "3ec55995",
   "metadata": {},
   "outputs": [],
   "source": [
    "a4 = np.load('../data/4darray.npy')"
   ]
  },
  {
   "cell_type": "markdown",
   "id": "f91359fa",
   "metadata": {},
   "source": [
    "<img src=\"../images/arrays/4dbase.png\" style=\"width: 500px;\">\n",
    "\n",
    "<img src=\"../images/arrays/4dshape.png\" style=\"width: 100px;\">"
   ]
  },
  {
   "cell_type": "code",
   "execution_count": null,
   "id": "44d5ee6e",
   "metadata": {},
   "outputs": [],
   "source": []
  },
  {
   "cell_type": "markdown",
   "id": "a73ad087",
   "metadata": {},
   "source": [
    "## Exersise"
   ]
  },
  {
   "cell_type": "markdown",
   "id": "da049f76",
   "metadata": {},
   "source": [
    "<img src=\"../images/arrays/4dbase1.png\" style=\"width: 500px;\">"
   ]
  },
  {
   "cell_type": "code",
   "execution_count": null,
   "id": "8bfe600f",
   "metadata": {},
   "outputs": [],
   "source": []
  },
  {
   "cell_type": "markdown",
   "id": "390acf56",
   "metadata": {},
   "source": [
    "<img src=\"../images/arrays/4dbase2.png\" style=\"width: 500px;\">"
   ]
  },
  {
   "cell_type": "code",
   "execution_count": null,
   "id": "4f1bfcb7",
   "metadata": {},
   "outputs": [],
   "source": []
  },
  {
   "cell_type": "markdown",
   "id": "6f14b440",
   "metadata": {},
   "source": [
    "<img src=\"../images/arrays/4dbase3.png\" style=\"width: 500px;\">"
   ]
  },
  {
   "cell_type": "code",
   "execution_count": null,
   "id": "6ef9fd10",
   "metadata": {},
   "outputs": [],
   "source": []
  },
  {
   "cell_type": "markdown",
   "id": "5f21c3ec",
   "metadata": {},
   "source": [
    "<img src=\"../images/arrays/4dbase4.png\" style=\"width: 500px;\">"
   ]
  },
  {
   "cell_type": "code",
   "execution_count": null,
   "id": "80937e12",
   "metadata": {},
   "outputs": [],
   "source": []
  },
  {
   "cell_type": "markdown",
   "id": "a1486e2c",
   "metadata": {},
   "source": [
    "<img src=\"../images/arrays/4dbase5.png\" style=\"width: 500px;\">"
   ]
  },
  {
   "cell_type": "code",
   "execution_count": null,
   "id": "0cbadef5",
   "metadata": {},
   "outputs": [],
   "source": []
  },
  {
   "cell_type": "markdown",
   "id": "423b9eeb",
   "metadata": {},
   "source": [
    "## 5D array"
   ]
  },
  {
   "cell_type": "markdown",
   "id": "c239ec30",
   "metadata": {},
   "source": [
    "<img src=\"../images/arrays/5dbase.png\" style=\"width: 500px;\">"
   ]
  },
  {
   "cell_type": "code",
   "execution_count": null,
   "id": "a378e69f",
   "metadata": {},
   "outputs": [],
   "source": []
  },
  {
   "cell_type": "code",
   "execution_count": null,
   "id": "65f84185",
   "metadata": {},
   "outputs": [],
   "source": []
  }
 ],
 "metadata": {
  "kernelspec": {
   "display_name": "Python 3 (ipykernel)",
   "language": "python",
   "name": "python3"
  },
  "language_info": {
   "codemirror_mode": {
    "name": "ipython",
    "version": 3
   },
   "file_extension": ".py",
   "mimetype": "text/x-python",
   "name": "python",
   "nbconvert_exporter": "python",
   "pygments_lexer": "ipython3",
   "version": "3.11.9"
  }
 },
 "nbformat": 4,
 "nbformat_minor": 5
}
